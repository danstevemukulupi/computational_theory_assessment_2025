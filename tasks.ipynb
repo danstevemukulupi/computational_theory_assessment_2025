{
 "cells": [
  {
   "cell_type": "code",
   "execution_count": 4,
   "metadata": {},
   "outputs": [],
   "source": [
    "import numpy as np\n",
    "import matplotlib\n",
    "  "
   ]
  },
  {
   "cell_type": "code",
   "execution_count": null,
   "metadata": {},
   "outputs": [],
   "source": []
  },
  {
   "cell_type": "markdown",
   "metadata": {},
   "source": [
    "# Task 1: Binary Representations"
   ]
  },
  {
   "cell_type": "code",
   "execution_count": null,
   "metadata": {},
   "outputs": [],
   "source": []
  },
  {
   "cell_type": "markdown",
   "metadata": {},
   "source": [
    "<h3> Step 1: rot1(x, n=1) rotates 32-bit unsigned integer to the left n places </h3>"
   ]
  },
  {
   "cell_type": "code",
   "execution_count": 36,
   "metadata": {},
   "outputs": [
    {
     "name": "stdout",
     "output_type": "stream",
     "text": [
      "0b101000\n",
      "40\n"
     ]
    }
   ],
   "source": [
    "# Rotation of to the left place\n",
    "Unsigned_Int_bit = 32\n",
    "\n",
    "def rotl(x, n=1):\n",
    "    n = n % Unsigned_Int_bit # Valid Range\n",
    "    return ((x << n)|(x >> (Unsigned_Int_bit - n))) & 0xFFFFFFFF\n",
    "\n",
    "# Declare Value of X\n",
    "x = 10\n",
    "# Print Binary and Decimal Number \n",
    "print(bin(rotl(x, n)))\n",
    "print(rotl(x, n))\n",
    "     "
   ]
  },
  {
   "cell_type": "markdown",
   "metadata": {},
   "source": [
    "<h3> Step 2: rot1(x, n=1) rotates 32-bit unsigned integer to the right n places </h3>"
   ]
  },
  {
   "cell_type": "code",
   "execution_count": 39,
   "metadata": {},
   "outputs": [
    {
     "name": "stdout",
     "output_type": "stream",
     "text": [
      "0b101\n",
      "5\n"
     ]
    }
   ],
   "source": [
    "# Rotation to the ight n Place\n",
    "Unsigned_Int_bit = 32\n",
    "\n",
    "def rotr(x, n=1):\n",
    "    n = n % Unsigned_Int_bit # Valid Range\n",
    "    return(x >> n)| (x << (Unsigned_Int_bit - n)) & 0xFFFFFFFF \n",
    "\n",
    "# Value of X\n",
    "x = 20\n",
    "\n",
    "# Print Binary Number and Decimal\n",
    "print(bin(rotr(x, n)))\n",
    "print(rotr(x, n))"
   ]
  },
  {
   "cell_type": "markdown",
   "metadata": {},
   "source": [
    "# Task 2: Hash Functions"
   ]
  },
  {
   "cell_type": "markdown",
   "metadata": {},
   "source": [
    "# Task 3: SHA256\n"
   ]
  },
  {
   "cell_type": "markdown",
   "metadata": {},
   "source": [
    "# Task 4: Prime Numbers"
   ]
  },
  {
   "cell_type": "markdown",
   "metadata": {},
   "source": [
    "# Task 5: Roots"
   ]
  },
  {
   "cell_type": "markdown",
   "metadata": {},
   "source": [
    "# Task 6: Proof of Work"
   ]
  },
  {
   "cell_type": "markdown",
   "metadata": {},
   "source": [
    "# Task 7: Turing Machines"
   ]
  },
  {
   "cell_type": "markdown",
   "metadata": {},
   "source": [
    "# Task 8: Computational Complexity"
   ]
  }
 ],
 "metadata": {
  "kernelspec": {
   "display_name": "base",
   "language": "python",
   "name": "python3"
  },
  "language_info": {
   "codemirror_mode": {
    "name": "ipython",
    "version": 3
   },
   "file_extension": ".py",
   "mimetype": "text/x-python",
   "name": "python",
   "nbconvert_exporter": "python",
   "pygments_lexer": "ipython3",
   "version": "3.12.4"
  }
 },
 "nbformat": 4,
 "nbformat_minor": 2
}
