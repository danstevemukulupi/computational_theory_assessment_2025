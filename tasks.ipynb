{
 "cells": [
  {
   "cell_type": "code",
   "execution_count": 34,
   "metadata": {},
   "outputs": [],
   "source": [
    "import numpy as np\n",
    "import matplotlib\n",
    "  "
   ]
  },
  {
   "cell_type": "code",
   "execution_count": null,
   "metadata": {},
   "outputs": [],
   "source": []
  },
  {
   "cell_type": "markdown",
   "metadata": {},
   "source": [
    "# Task 1: Binary Representations"
   ]
  },
  {
   "cell_type": "code",
   "execution_count": null,
   "metadata": {},
   "outputs": [],
   "source": []
  },
  {
   "cell_type": "markdown",
   "metadata": {},
   "source": [
    "<h3> Step 1: rot1(x, n=1) rotates 32-bit unsigned integer to the left n places </h3>"
   ]
  },
  {
   "cell_type": "code",
   "execution_count": 8,
   "metadata": {},
   "outputs": [
    {
     "name": "stdout",
     "output_type": "stream",
     "text": [
      "0b10100\n",
      "20\n"
     ]
    }
   ],
   "source": [
    "# Rotation of to the left place\n",
    "Unsigned_Int_bit = 32\n",
    "\n",
    "def rotl(x, n=1):\n",
    "    n = n % Unsigned_Int_bit # Valid Range\n",
    "    return ((x << n)|(x >> (Unsigned_Int_bit - n))) & 0xFFFFFFFF\n",
    "\n",
    "# Declare Value of X\n",
    "x = 10\n",
    "n = 1\n",
    "\n",
    "# Print Binary and Decimal Number \n",
    "print(bin(rotl(x, n)))\n",
    "print(rotl(x, n))\n",
    "     "
   ]
  },
  {
   "cell_type": "markdown",
   "metadata": {},
   "source": [
    "<h3> Step 2: rot1(x, n=1) rotates 32-bit unsigned integer to the right n places </h3>"
   ]
  },
  {
   "cell_type": "code",
   "execution_count": 9,
   "metadata": {},
   "outputs": [
    {
     "name": "stdout",
     "output_type": "stream",
     "text": [
      "0b1010\n",
      "10\n"
     ]
    }
   ],
   "source": [
    "# Rotation to the ight n Place\n",
    "Unsigned_Int_bit = 32\n",
    "\n",
    "def rotr(x, n=1):\n",
    "    n = n % Unsigned_Int_bit # Valid Range\n",
    "    return(x >> n)| (x << (Unsigned_Int_bit - n)) & 0xFFFFFFFF \n",
    "\n",
    "# Value of X\n",
    "x = 20\n",
    "n = 1\n",
    "\n",
    "# Print Binary Number and Decimal\n",
    "print(bin(rotr(x, n)))\n",
    "print(rotr(x, n))"
   ]
  },
  {
   "cell_type": "markdown",
   "metadata": {},
   "source": [
    "<h3>Step 3: The function ch(x, y, z) that chooses the bits from y where x has bits set to 1 and bits in z where x has bits set to 0.</h3>"
   ]
  },
  {
   "cell_type": "code",
   "execution_count": 10,
   "metadata": {},
   "outputs": [
    {
     "name": "stdout",
     "output_type": "stream",
     "text": [
      "0b100110\n"
     ]
    }
   ],
   "source": [
    "from random import choice\n",
    "\n",
    "\n",
    "#Implementation \n",
    "\n",
    "# Ch(x,y,z)= (x & y) ^ (~x & z)\n",
    "\n",
    "# => (x & y)  : Selects the bits from y where x has bits set to 1\n",
    "# => (~x & z) : Selects the bits from z where x has bits set to 0\n",
    "# => | (Bitwise OR ) combines both results\n",
    "\n",
    "def ch(x, y,z ):\n",
    "    return (x & y) | (~x & z)\n",
    "\n",
    "# Usage\n",
    "x = 0b101010 # Binary: 101010\n",
    "y = 0b110011 # Binary: 110011\n",
    "z = 0b001100 # Binary: 001100\n",
    "\n",
    "# Step 1:\n",
    "# =>   x & y:\n",
    "\n",
    "# =>   101010\n",
    "# => & 110011\n",
    "#    ---------\n",
    "#      100010\n",
    "\n",
    "# Step 2:\n",
    "# =>   ~x & z (first,~x all bits, then AND with z)\n",
    "\n",
    "# =>   ~101010 (in 6-bit representation) => 010101\n",
    "# =>   010101\n",
    "# => & 001100\n",
    "#    ---------\n",
    "#      000100\n",
    "\n",
    "# Step 3: \n",
    "\n",
    "# => (x & y) | (~x & z):\n",
    "# =>   100010\n",
    "# => | 000100\n",
    "# =>  ---------\n",
    "# =>   100110 \n",
    "\n",
    "# Output\n",
    "result = ch(x, y, z)\n",
    "print(bin(result)) # Output: 0b100110\n",
    "\n",
    "\n",
    "\n"
   ]
  },
  {
   "cell_type": "markdown",
   "metadata": {},
   "source": [
    "<h3>Step 4: The function maj(x, y, z) which takes a majority vote of the bits in x, y, and z.</h3>"
   ]
  },
  {
   "cell_type": "code",
   "execution_count": 11,
   "metadata": {},
   "outputs": [
    {
     "name": "stdout",
     "output_type": "stream",
     "text": [
      "0b111\n",
      "0b1111\n",
      "0b1010\n"
     ]
    }
   ],
   "source": [
    "#The function maj(x, y, z) which takes a majority vote of the bits in x, y, and z.\n",
    "#maj(x, y, z) = (x & y) ^ (x & z) ^ (y & z) \n",
    "\n",
    "\n",
    "# Implementation \n",
    "\n",
    "# Define the majority function\n",
    "def maj(x, y, z):\n",
    "\n",
    "    # Compute the majority function using bitwise operations\n",
    "    return(x & y) ^ (x & z) ^ (y & z)\n",
    "\n",
    "# Breakdown Formula\n",
    "\n",
    "# => (x & y): Bits where both x and y are 1\n",
    "# => (x & z): Bits where both x and z are 1\n",
    "# => (y & z): Bits where y and z are 1\n",
    "# => XOR (^) combines these results according to the given formula\n",
    "\n",
    "# Test Case 1 \n",
    "print(bin(maj(0b101,0b110, 0b011))) # Expected Output: 0b111\n",
    "\n",
    "# Inputs In Binary\n",
    "# => x = 0b101 (5 in decimal)\n",
    "# => y = 0b110 (6 in decimal)\n",
    "# => z = 0b011 (3 in decimal)\n",
    "\n",
    "# Bitwise Operations\n",
    "# => x & y = 101 & 110 = 100 (4 in decimal)\n",
    "# => x & z = 101 & 011 = 001 (1 in decimal)\n",
    "# => y & z = 110 & 011 = 010 (2 in Decimal)\n",
    "\n",
    "# XOR\n",
    "# => 100 ^ 001 ^ 010= 111 ( 7 in decimal)=> 0b111\n",
    "\n",
    "\n",
    "# Test Case 2\n",
    "print(bin(maj(0b1001, 0b0110, 0b1111))) # Expected Output: 0b1111\n",
    "\n",
    "# Inputs in binary\n",
    "# => x = 0b1001 (9 in decimal)\n",
    "# => y = 0b0110 (6 in decimal)\n",
    "# => z = 0b1111 (15 in decimal)\n",
    "\n",
    "# Bitwise Operations\n",
    "# => x & y = 1001 & 0110 = 0000 (0 in decimal)\n",
    "# => x & z = 1001 & 1111 = 1001 (9 in decimal)\n",
    "# => y & z = 0110 & 1111 = 0110 (6 in decimal)\n",
    "\n",
    "# XOR\n",
    "\n",
    "# => 0000 ^ 1001 ^ 0110 = 1111 (15 in decimal) => 0b1111\n",
    "\n",
    "# Test Case 3\n",
    "print(bin(maj(0b0000, 0b1111, 0b1010))) # Expected Output: 0b1010\n",
    "\n",
    "# Inputs in Binary\n",
    "# => x = 0b0000 (0 in decimla)\n",
    "# => y = 0b1111 (15 in decimal)\n",
    "# => z = 0b1010 (10 in decimla)\n",
    "\n",
    "# Bitwise Operations\n",
    "# => x & y = 0000 & 1111 = 0000 (0 in decimal)\n",
    "# => x & z = 0000 & 1010 = 0000 (0 in decimal)\n",
    "# => y & z = 1111 & 1010 = 1010 (10 in decimal)\n",
    "\n",
    "# XOR\n",
    "# => 0000 ^ 0000 ^ 1010 = 1010 (10 in decimal) => 0b1010\n",
    "\n"
   ]
  },
  {
   "cell_type": "markdown",
   "metadata": {},
   "source": [
    "# Task 2: Hash Functions"
   ]
  },
  {
   "cell_type": "code",
   "execution_count": 7,
   "metadata": {},
   "outputs": [
    {
     "name": "stdout",
     "output_type": "stream",
     "text": [
      "Hash Value: 0\n"
     ]
    }
   ],
   "source": [
    "# C Programming \n",
    "\n",
    "\"\"\"\"\n",
    " unsigned hashval (char * s) {\n",
    " for(hashval = 0; *s != '\\0'; s++)\n",
    "   hashval = *s + 31 * hashval % 101;\n",
    "  return hashval % 101;\n",
    "\n",
    "\n",
    " \n",
    "  \n",
    "  #include <stdio.h>\n",
    "\n",
    "\tunsigned hashval(char* s) {\n",
    "\t\tunsigned hashval;\n",
    "\tfor (hashval = 0; *s != '\\0'; s++)\n",
    "\t\thashval = *s + 31 * hashval % 101;\n",
    "\treturn hashval % 101;\n",
    "\n",
    "}\n",
    "\n",
    "\tint main() {\n",
    "\t\tchar str[] = \"example\";\n",
    "\t\tprintf(\"Hash value: %u\\n\", hashval(str));\n",
    "\t}\n",
    "\n",
    "\n",
    "}\n",
    "\"\"\"\"\"\n",
    "\n",
    "#  C code converted into Python\n",
    "\n",
    "def hashval(s):\n",
    "    hashval = 0\n",
    "    for char in s:\n",
    "        hashval = (ord(char) + 31 * hashval) % 101\n",
    "        return hashval\n",
    "    \n",
    "if __name__ == \"__main__\":\n",
    "    str_value = \"example\"\n",
    "    print(f\"Hash Value: {hashval(str_value)}\")  \n",
    "    \n",
    "\n"
   ]
  },
  {
   "cell_type": "markdown",
   "metadata": {},
   "source": [
    "# Task 3: SHA256\n"
   ]
  },
  {
   "cell_type": "code",
   "execution_count": 5,
   "metadata": {},
   "outputs": [],
   "source": [
    "# import hashlib module for hashing function in python  (SHA-256)\n",
    "import hashlib"
   ]
  },
  {
   "cell_type": "markdown",
   "metadata": {},
   "source": [
    "<h3> Step 1: Initial Value </h3>"
   ]
  },
  {
   "cell_type": "markdown",
   "metadata": {},
   "source": [
    "<h3>Step 2: Padding</h3>"
   ]
  },
  {
   "cell_type": "markdown",
   "metadata": {},
   "source": []
  },
  {
   "cell_type": "markdown",
   "metadata": {},
   "source": [
    "# Task 4: Prime Numbers"
   ]
  },
  {
   "cell_type": "markdown",
   "metadata": {},
   "source": [
    "<h3>Algorithm 1: Brute Force</h3>\n",
    "\n"
   ]
  },
  {
   "cell_type": "code",
   "execution_count": 23,
   "metadata": {},
   "outputs": [
    {
     "name": "stdout",
     "output_type": "stream",
     "text": [
      "[2, 3, 5, 7, 11, 13, 17, 19, 23, 29, 31, 37, 41, 43, 47, 53, 59, 61, 67, 71, 73, 79, 83, 89, 97, 101, 103, 107, 109, 113, 127, 131, 137, 139, 149, 151, 157, 163, 167, 173, 179, 181, 191, 193, 197, 199, 211, 223, 227, 229, 233, 239, 241, 251, 257, 263, 269, 271, 277, 281, 283, 293, 307, 311, 313, 317, 331, 337, 347, 349, 353, 359, 367, 373, 379, 383, 389, 397, 401, 409, 419, 421, 431, 433, 439, 443, 449, 457, 461, 463, 467, 479, 487, 491, 499, 503, 509, 521, 523, 541]\n"
     ]
    }
   ],
   "source": [
    "# The first 100 prime numbers by Brute force\n",
    "\n",
    "# Check if a number is prime\n",
    "def is_prime(number):\n",
    "  \n",
    "  # check if the number is less than 2\n",
    "  if number < 2:\n",
    "    return False\n",
    "  \n",
    "  for i in range(2, int(number ** 0.5) +1):\n",
    "    if number % i == 0:\n",
    "        return False\n",
    "    \n",
    "  return True\n",
    "  \n",
    "\n",
    "# Fin the first 100 prime numbers\n",
    "def find_primes():\n",
    "\n",
    "# Start with an empty List\n",
    "  primes = []\n",
    "\n",
    "  # Start with 2\n",
    "  number = 2\n",
    "\n",
    "  # Keep searching until we find 100 primes\n",
    "  while len(primes) < 100:\n",
    "\n",
    "    # check if the number is prime\n",
    "      if is_prime(number):\n",
    "          primes.append(number)\n",
    "\n",
    "    # Move to the next number\n",
    "    # Increment by 1\n",
    "      number += 1  \n",
    "\n",
    "    # Return the list of first 100 primes\n",
    "  return primes\n",
    "\n",
    "    # Run the function to find the first 100 primes\n",
    "primes = find_primes() \n",
    "print(primes)"
   ]
  },
  {
   "cell_type": "markdown",
   "metadata": {},
   "source": [
    "<h3>Algorithm 2: Sieve of Eratosthenes</h3>"
   ]
  },
  {
   "cell_type": "code",
   "execution_count": 24,
   "metadata": {},
   "outputs": [
    {
     "name": "stdout",
     "output_type": "stream",
     "text": [
      "[2, 3, 5, 7, 11, 13, 17, 19, 23, 29, 31, 37, 41, 43, 47, 53, 59, 61, 67, 71, 73, 79, 83, 89, 97]\n"
     ]
    }
   ],
   "source": [
    "# The Sieve of Eratosthenes is an ancient algorithm for finding all prime numbers up to a specifieed integer number \n",
    "# The first 100 numbers by Sieve of Eratosthenes\n",
    "\n",
    "def sieve_of_eratosthenes(number):\n",
    "    primes = [True] * (number + 1)\n",
    "    primes[0] = primes[1] = False # 0 and 1 are not prime numbers\n",
    "    \n",
    "    for i in range(2, int(number ** 0.5) + 1):\n",
    "        if primes[i]:\n",
    "            for j in range(i * i, number + 1, i):\n",
    "                primes[j] = False\n",
    "\n",
    "    return [x for x in range(2, number+1) if primes[x]]\n",
    "\n",
    "# Find the first 100 prime numbers using Sieve of Eratosthenes\n",
    "print(sieve_of_eratosthenes(100))            \n",
    "\n"
   ]
  },
  {
   "cell_type": "markdown",
   "metadata": {},
   "source": [
    "<h3>Algorithm 3: Trial Devision</h3>"
   ]
  },
  {
   "cell_type": "code",
   "execution_count": 31,
   "metadata": {},
   "outputs": [
    {
     "name": "stdout",
     "output_type": "stream",
     "text": [
      "[2, 3, 5, 7, 11, 13, 17, 19, 23, 29, 31, 37, 41, 43, 47, 53, 59, 61, 67, 71, 73, 79, 83, 89, 97, 101, 103, 107, 109, 113, 127, 131, 137, 139, 149, 151, 157, 163, 167, 173, 179, 181, 191, 193, 197, 199, 211, 223, 227, 229, 233, 239, 241, 251, 257, 263, 269, 271, 277, 281, 283, 293, 307, 311, 313, 317, 331, 337, 347, 349, 353, 359, 367, 373, 379, 383, 389, 397, 401, 409, 419, 421, 431, 433, 439, 443, 449, 457, 461, 463, 467, 479, 487, 491, 499, 503, 509, 521, 523, 541]\n"
     ]
    }
   ],
   "source": [
    "# The first 100 prime numbers by Trial Division\n",
    "def trial_division(limit):\n",
    "    primes = []\n",
    "\n",
    "    # Start Checking from 2\n",
    "    number = 2 \n",
    "\n",
    "    while len(primes) <limit:\n",
    "      \n",
    "      # Check if the number is prime \n",
    "         is_prime = True\n",
    "         for prime in primes:\n",
    "             if prime * prime > number:\n",
    "                break\n",
    "             if number % prime == 0:\n",
    "                 is_prime = False\n",
    "                 break\n",
    "\n",
    "         if is_prime:\n",
    "             primes.append(number)\n",
    "\n",
    "      # Move to the next number    \n",
    "         number += 1 \n",
    "\n",
    "    return primes\n",
    "    \n",
    " # find the first 100 prime using Trial Division\n",
    "first_100_p = trial_division(100)\n",
    "print(first_100_p)\n",
    "\n",
    "\n",
    "\n"
   ]
  },
  {
   "cell_type": "markdown",
   "metadata": {},
   "source": [
    "<h3>Check Now for prime Number </h3>"
   ]
  },
  {
   "cell_type": "code",
   "execution_count": 34,
   "metadata": {},
   "outputs": [
    {
     "name": "stdout",
     "output_type": "stream",
     "text": [
      "23 is a prime number.\n"
     ]
    }
   ],
   "source": [
    "def is_prime(number):\n",
    "    if number < 2:\n",
    "        return False\n",
    "    \n",
    "    for i in range(2, int(number ** 0.5) + 1):\n",
    "        if number % i == 0:\n",
    "            return False\n",
    "        \n",
    "    return True\n",
    "\n",
    "User_Input = int (input(\"Enter the number of your choice: \"))\n",
    "result = is_prime(User_Input)\n",
    "if (result):\n",
    "    print(User_Input, \"is a prime number.\")\n",
    "else:\n",
    "    print(User_Input, \" is not a prime number\")    "
   ]
  },
  {
   "cell_type": "markdown",
   "metadata": {},
   "source": [
    "# Task 5: Roots"
   ]
  },
  {
   "cell_type": "markdown",
   "metadata": {},
   "source": [
    "# Task 6: Proof of Work"
   ]
  },
  {
   "cell_type": "markdown",
   "metadata": {},
   "source": [
    "# Task 7: Turing Machines"
   ]
  },
  {
   "cell_type": "markdown",
   "metadata": {},
   "source": [
    "# Task 8: Computational Complexity"
   ]
  },
  {
   "cell_type": "markdown",
   "metadata": {},
   "source": [
    "\n",
    "<h2>References</h2>\n",
    "\n",
    "<h4>https://github.com/in3rsha/sha256-animation</h4>\n",
    "<h4>https://labex.io/tutorials/python-how-to-determine-prime-numbers-in-python-418857</h4>\n",
    "<h4>https://pythonmania.org/python-program-for-prime-number/</h4>"
   ]
  }
 ],
 "metadata": {
  "kernelspec": {
   "display_name": "base",
   "language": "python",
   "name": "python3"
  },
  "language_info": {
   "codemirror_mode": {
    "name": "ipython",
    "version": 3
   },
   "file_extension": ".py",
   "mimetype": "text/x-python",
   "name": "python",
   "nbconvert_exporter": "python",
   "pygments_lexer": "ipython3",
   "version": "3.12.4"
  }
 },
 "nbformat": 4,
 "nbformat_minor": 2
}
