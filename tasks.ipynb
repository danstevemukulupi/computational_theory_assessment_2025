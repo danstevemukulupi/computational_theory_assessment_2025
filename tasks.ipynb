{
 "cells": [
  {
   "cell_type": "code",
   "execution_count": 4,
   "metadata": {},
   "outputs": [],
   "source": [
    "import numpy as np\n",
    "import matplotlib\n",
    "  "
   ]
  },
  {
   "cell_type": "code",
   "execution_count": null,
   "metadata": {},
   "outputs": [],
   "source": []
  },
  {
   "cell_type": "markdown",
   "metadata": {},
   "source": [
    "# Task 1: Binary Representations"
   ]
  },
  {
   "cell_type": "code",
   "execution_count": null,
   "metadata": {},
   "outputs": [],
   "source": []
  },
  {
   "cell_type": "markdown",
   "metadata": {},
   "source": [
    "<h3> Step 1: rot1(x, n=1) rotates 32-bit unsigned integer to the left n places </h3>"
   ]
  },
  {
   "cell_type": "code",
   "execution_count": 36,
   "metadata": {},
   "outputs": [
    {
     "name": "stdout",
     "output_type": "stream",
     "text": [
      "0b101000\n",
      "40\n"
     ]
    }
   ],
   "source": [
    "# Rotation of to the left place\n",
    "Unsigned_Int_bit = 32\n",
    "\n",
    "def rotl(x, n=1):\n",
    "    n = n % Unsigned_Int_bit # Valid Range\n",
    "    return ((x << n)|(x >> (Unsigned_Int_bit - n))) & 0xFFFFFFFF\n",
    "\n",
    "# Declare Value of X\n",
    "x = 10\n",
    "# Print Binary and Decimal Number \n",
    "print(bin(rotl(x, n)))\n",
    "print(rotl(x, n))\n",
    "     "
   ]
  },
  {
   "cell_type": "markdown",
   "metadata": {},
   "source": [
    "<h3> Step 2: rot1(x, n=1) rotates 32-bit unsigned integer to the right n places </h3>"
   ]
  },
  {
   "cell_type": "code",
   "execution_count": 39,
   "metadata": {},
   "outputs": [
    {
     "name": "stdout",
     "output_type": "stream",
     "text": [
      "0b101\n",
      "5\n"
     ]
    }
   ],
   "source": [
    "# Rotation to the ight n Place\n",
    "Unsigned_Int_bit = 32\n",
    "\n",
    "def rotr(x, n=1):\n",
    "    n = n % Unsigned_Int_bit # Valid Range\n",
    "    return(x >> n)| (x << (Unsigned_Int_bit - n)) & 0xFFFFFFFF \n",
    "\n",
    "# Value of X\n",
    "x = 20\n",
    "\n",
    "# Print Binary Number and Decimal\n",
    "print(bin(rotr(x, n)))\n",
    "print(rotr(x, n))"
   ]
  },
  {
   "cell_type": "markdown",
   "metadata": {},
   "source": [
    "<h3>Step 3: The function ch(x, y, z) that chooses the bits from y where x has bits set to 1 and bits in z where x has bits set to 0.</h3>"
   ]
  },
  {
   "cell_type": "code",
   "execution_count": 21,
   "metadata": {},
   "outputs": [
    {
     "name": "stdout",
     "output_type": "stream",
     "text": [
      "0b100110\n"
     ]
    }
   ],
   "source": [
    "from random import choice\n",
    "\n",
    "\n",
    "#Implementation \n",
    "\n",
    "# Ch(x,y,z)= (x & y) ^ (~x & z)\n",
    "\n",
    "# => (x & y)  : Selects the bits from y where x has bits set to 1\n",
    "# => (~x & z) : Selects the bits from z where x has bits set to 0\n",
    "# => | (Bitwise OR ) combines both results\n",
    "\n",
    "def ch(x, y,z ):\n",
    "    return (x & y) | (~x & z)\n",
    "\n",
    "# Usage\n",
    "x = 0b101010 # Binary: 101010\n",
    "y = 0b110011 # Binary: 110011\n",
    "z = 0b001100 # Binary: 001100\n",
    "\n",
    "# Step 1:\n",
    "# =>   x & y:\n",
    "\n",
    "# =>   101010\n",
    "# => & 110011\n",
    "#    ---------\n",
    "#      100010\n",
    "\n",
    "# Step 2:\n",
    "# =>   ~x & z (first,~x all bits, then AND with z)\n",
    "\n",
    "# =>   ~101010 (in 6-bit representation) => 010101\n",
    "# =>   010101\n",
    "# => & 001100\n",
    "#    ---------\n",
    "#      000100\n",
    "\n",
    "# Step 3: \n",
    "\n",
    "# => (x & y) | (~x & z):\n",
    "# =>   100010\n",
    "# => | 000100\n",
    "# =>  ---------\n",
    "# =>   100110 \n",
    "\n",
    "# Output\n",
    "result = ch(x, y, z)\n",
    "print(bin(result)) # Output: 0b100110\n",
    "\n",
    "\n",
    "\n"
   ]
  },
  {
   "cell_type": "markdown",
   "metadata": {},
   "source": [
    "<h3>Step 4: The function maj(x, y, z) which takes a majority vote of the bits in x, y, and z.</h3>"
   ]
  },
  {
   "cell_type": "code",
   "execution_count": 31,
   "metadata": {},
   "outputs": [
    {
     "name": "stdout",
     "output_type": "stream",
     "text": [
      "0b111\n",
      "0b1111\n",
      "0b1010\n"
     ]
    }
   ],
   "source": [
    "#The function maj(x, y, z) which takes a majority vote of the bits in x, y, and z.\n",
    "#maj(x, y, z) = (x & y) ^ (x & z) ^ (y & z) \n",
    "\n",
    "\n",
    "# Implementation \n",
    "\n",
    "# Define the majority function\n",
    "def maj(x, y, z):\n",
    "\n",
    "    # Compute the majority function using bitwise operations\n",
    "    return(x & y) ^ (x & z) ^ (y & z)\n",
    "\n",
    "# Breakdown Formula\n",
    "\n",
    "# => (x & y): Bits where both x and y are 1\n",
    "# => (x & z): Bits where both x and z are 1\n",
    "# => (y & z): Bits where y and z are 1\n",
    "# => XOR (^) combines these results according to the given formula\n",
    "\n",
    "# Test Case 1 \n",
    "print(bin(maj(0b101,0b110, 0b011))) # Expected Output: 0b111\n",
    "\n",
    "# Inputs In Binary\n",
    "# => x = 0b101 (5 in decimal)\n",
    "# => y = 0b110 (6 in decimal)\n",
    "# => z = 0b011 (3 in decimal)\n",
    "\n",
    "# Bitwise Operations\n",
    "# => x & y = 101 & 110 = 100 (4 in decimal)\n",
    "# => x & z = 101 & 011 = 001 (1 in decimal)\n",
    "# => y & z = 110 & 011 = 010 (2 in Decimal)\n",
    "\n",
    "# XOR\n",
    "# => 100 ^ 001 ^ 010= 111 ( 7 in decimal)=> 0b111\n",
    "\n",
    "\n",
    "# Test Case 2\n",
    "print(bin(maj(0b1001, 0b0110, 0b1111))) # Expected Output: 0b1111\n",
    "\n",
    "# Inputs in binary\n",
    "# => x = 0b1001 (9 in decimal)\n",
    "# => y = 0b0110 (6 in decimal)\n",
    "# => z = 0b1111 (15 in decimal)\n",
    "\n",
    "# Bitwise Operations\n",
    "# => x & y = 1001 & 0110 = 0000 (0 in decimal)\n",
    "# => x & z = 1001 & 1111 = 1001 (9 in decimal)\n",
    "# => y & z = 0110 & 1111 = 0110 (6 in decimal)\n",
    "\n",
    "# XOR\n",
    "\n",
    "# => 0000 ^ 1001 ^ 0110 = 1111 (15 in decimal) => 0b1111\n",
    "\n",
    "# Test Case 3\n",
    "print(bin(maj(0b0000, 0b1111, 0b1010))) # Expected Output: 0b1010\n",
    "\n",
    "# Inputs in Binary\n",
    "# => x = 0b0000 (0 in decimla)\n",
    "# => y = 0b1111 (15 in decimal)\n",
    "# => z = 0b1010 (10 in decimla)\n",
    "\n",
    "# Bitwise Operations\n",
    "# => x & y = 0000 & 1111 = 0000 (0 in decimal)\n",
    "# => x & z = 0000 & 1010 = 0000 (0 in decimal)\n",
    "# => y & z = 1111 & 1010 = 1010 (10 in decimal)\n",
    "\n",
    "# XOR\n",
    "# => 0000 ^ 0000 ^ 1010 = 1010 (10 in decimal) => 0b1010\n",
    "\n"
   ]
  },
  {
   "cell_type": "markdown",
   "metadata": {},
   "source": [
    "# Task 2: Hash Functions"
   ]
  },
  {
   "cell_type": "markdown",
   "metadata": {},
   "source": [
    "# Task 3: SHA256\n"
   ]
  },
  {
   "cell_type": "markdown",
   "metadata": {},
   "source": [
    "# Task 4: Prime Numbers"
   ]
  },
  {
   "cell_type": "markdown",
   "metadata": {},
   "source": [
    "# Task 5: Roots"
   ]
  },
  {
   "cell_type": "markdown",
   "metadata": {},
   "source": [
    "# Task 6: Proof of Work"
   ]
  },
  {
   "cell_type": "markdown",
   "metadata": {},
   "source": [
    "# Task 7: Turing Machines"
   ]
  },
  {
   "cell_type": "markdown",
   "metadata": {},
   "source": [
    "# Task 8: Computational Complexity"
   ]
  },
  {
   "cell_type": "markdown",
   "metadata": {},
   "source": [
    "\n",
    "<h2>References</h2>\n",
    "\n",
    "<h4>https://github.com/in3rsha/sha256-animation</h4>"
   ]
  }
 ],
 "metadata": {
  "kernelspec": {
   "display_name": "base",
   "language": "python",
   "name": "python3"
  },
  "language_info": {
   "codemirror_mode": {
    "name": "ipython",
    "version": 3
   },
   "file_extension": ".py",
   "mimetype": "text/x-python",
   "name": "python",
   "nbconvert_exporter": "python",
   "pygments_lexer": "ipython3",
   "version": "3.12.4"
  }
 },
 "nbformat": 4,
 "nbformat_minor": 2
}
